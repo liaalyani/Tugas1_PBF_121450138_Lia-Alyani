{
 "cells": [
  {
   "cell_type": "markdown",
   "id": "3b20d17d-9391-40ee-b559-51dc7f1231f9",
   "metadata": {},
   "source": [
    "# TUGAS PERTEMUAN 1\n",
    "# Nama        : Lia Alyani\n",
    "# NIM         : 121450138\n",
    "# Mata Kuliah : Pemrograman Berbasis Fungsi (RA)"
   ]
  },
  {
   "cell_type": "markdown",
   "id": "06c64e99-5476-4bd7-844a-c0cb66fde365",
   "metadata": {},
   "source": [
    "## 1. Jelaskan menggunakan tabel mengenai kelebihan dan kekurangan paradigma procedural dibandingkan dengan object oriented (minimal 3)"
   ]
  },
  {
   "cell_type": "markdown",
   "id": "fedad024-5ec3-4d7d-8b2d-c70fc26a202c",
   "metadata": {},
   "source": [
    "<table>\n",
    "    <tr>\n",
    "        <th>Kelebihan</th>\n",
    "        <th>Kekurangan</th>\n",
    "    </tr>\n",
    "    <tr>\n",
    "        <td>Paradigma procedural lebih mudah dipahami dan diterapkan dibandingkan object oriented, karena lebih menekankan pada proses dan alur dalam menyelesaikan suatu masalah.\n",
    "        <td>Paradigma procedural memiliki keterbatasan dalam membangun abstraksi yang sesuai dengan model sistem yang diterapkan, sehingga sulit untuk mengelompokkan data dan memanipulasinya secara efisien.\n",
    "    </tr>\n",
    "    <tr>\n",
    "        <td>Dalam paradigma procedural, proses debugging lebih mudah dilakukan dibandingkan dengan object oriented,karena lebih memfokuskan pada alur dan proses program.\n",
    "        <td>Dalam pradigma procedural, penulisan kode menjadi lebih rumit dan tidak terstuktur karena harus memperhatikan banyak hal seperti variabel global.\n",
    "    </tr>\n",
    "    <tr>\n",
    "        <td>Paradigma procedural memiliki kemampuan menyelesaikan suatu masalah dengan lebih cepat dan efisien dibandingkan dengan object oriented, karena tidak membutuhkan penyimpanan data dan method yang kompleks.\n",
    "         <td>Paradigma procedural memiliki pendekatan yang lebih linear dan terpisah dari konsep OOP sehingga sulit untuk mengatasi permasalahan yang kompleks dan menjaga konsistensi data.\n",
    "     <tr>\n",
    "<table>"
   ]
  },
  {
   "cell_type": "markdown",
   "id": "4a8edd30-62ea-4894-803b-458dde2f8d77",
   "metadata": {},
   "source": [
    "## 2. Jelaskan menggunakan tabel mengenai kelebihan dan kekurangan paradigma object oriented dibandingkan dengan functional (minimal 3)"
   ]
  },
  {
   "cell_type": "markdown",
   "id": "f873eab7-0846-43b8-bb7d-64717f9da87a",
   "metadata": {},
   "source": [
    "<table>\n",
    "    <tr>\n",
    "        <th>Kelebihan</th>\n",
    "        <th>Kekurangan</th>\n",
    "    </tr>\n",
    "    <tr>\n",
    "        <td>Object Oriented memungkinkan pengguna untuk membuat abstraksi dari realitas dunia nyata yang membuatnya lebih mudah untuk dipahami dan diterapkan.\n",
    "        <td>Debugging pada paradigma Object Oriented lebih sulit dan memerlukan waktu yang lebih lama dibandingkan dengan debugging pada functional programming.\n",
    "    </tr>\n",
    "    <tr>\n",
    "        <td>Object Oriented menyediakan mekanisme untuk menyembunyikan implementasi dalam object, sehingga hanya menunjukkan interface kepada user.\n",
    "        <td>Pemrograman Object Oriented biasanya lebih kompleks dibandingkan dengan functional programming,karena memerlukan penggunaan class, inheritance, dan abstraction.\n",
    "    </tr>\n",
    "    <tr>\n",
    "        <td>Kode dapat dibuat sebagai object dan dapat digunakan kembali pada aplikasi lain dengan sedikit atau tanpa modifikasi.\n",
    "        <td>Karena aanya penggunaan class dan inheritance, pemeliharaan dan pembaruan kode pada paradigma Object Oriented lebih sulit dibandingkan dengan functional programming.\n",
    "    </tr>\n",
    "<table>"
   ]
  },
  {
   "cell_type": "markdown",
   "id": "fcb481cc-3dba-405a-be5d-257d2e62390b",
   "metadata": {},
   "source": [
    "## 3. Jelaskan menggunakan tabel mengenai kelebihan dan kekurangan paradigma procedural dibandingkan dengan functional (minimal 3) !"
   ]
  },
  {
   "cell_type": "markdown",
   "id": "1cfd4859-b5f5-4221-aa4d-0f058ab5c71f",
   "metadata": {},
   "source": [
    "<table>\n",
    "    <tr>\n",
    "        <th>Kelebihan</th>\n",
    "        <th>Kekurangan</th>\n",
    "    </tr>\n",
    "    <tr>\n",
    "        <td>Paradigma procedural memiliki kemampuan untuk memecahkan berbagai jenis masalah dan dapat diterapkan pada berbagai lingkungan dan platform.\n",
    "        <td>Dalam paradigma procedural, sulit untuk membuat program yang skalabel karena tidak ada cara untuk membuat kode yang terbagi menjadi bagian-bagian yang lebih kecil dan mudah dikelola.\n",
    "    </tr>\n",
    "    <tr>\n",
    "        <td>Paradigma procedural memiliki sintaks yang lebih sederhana dan mudah dipahami oleh pemrogram pemula.\n",
    "        <td>Dalam paradigma procedural, kode ditulis dalam bentuk step-by-step, sehingga sulit untuk memisahkan bagian-bagian yang berbeda dan menggunakannya lagi pada bagian lain dalam program.\n",
    "    </tr>\n",
    "    <tr>\n",
    "        <td>Paradigma procedural memungkinkan pemecahan masalah dengan cara yang lebih terstruktur dan logis, membuat proses pengembangan lebih mudah.\n",
    "        <td>Dalam paradigma procedural, sulit untuk menggunakan ulang kode yang sudah dibuat sebelumnya, karena tidak ada mekanisme untuk mengubah data atau memberikan input yang berbeda pada kode tersebut.\n",
    "    </tr>\n",
    "    <tr>\n",
    "        <td>Paradigma procedural memiliki kecepatan eksekusi yang lebih tinggi dibandingkan dengan paradigma lain, karena fokus pada prosedur dan tugas spesifik.\n",
    "        <td>Dalam paradigma prosedural, fokus lebih pada tahapan-tahapan yang dilakukan pada data daripada pada data itu sendiri.\n",
    "     <tr>\n",
    "<table>"
   ]
  },
  {
   "cell_type": "markdown",
   "id": "b59b2984-0cc9-43dd-8dc0-fdce4ac2efe9",
   "metadata": {},
   "source": [
    "## 4. Apa yang dimaksud dengan pure functional programming language?"
   ]
  },
  {
   "cell_type": "markdown",
   "id": "502914dd-9b96-4765-9403-42bed44cafb4",
   "metadata": {},
   "source": [
    "Pure Functional programming adalah suatu paradigma pemrograman yang hanya menggunakan fungsi-fungsi matematis sebagai dasar untuk memecahkan masalah dan membuat program."
   ]
  },
  {
   "cell_type": "markdown",
   "id": "f4672b26-8c46-4cf1-9cc6-8a62c9b6f989",
   "metadata": {},
   "source": [
    "## 5. Dari bahasa pemrograman FP di slide sebelumnya (slide 14), manakah yang termasuk pure functional programming language?"
   ]
  },
  {
   "cell_type": "markdown",
   "id": "5ca82710-16f3-4079-8da5-ea39152546f1",
   "metadata": {},
   "source": [
    "Lisp, Haskell, dan JavaScript termasuk dalam bahasa pemrograman pure functional programming."
   ]
  },
  {
   "cell_type": "markdown",
   "id": "62c1f998-f164-49ef-8422-cccb582cec14",
   "metadata": {},
   "source": [
    "## Nomor 6."
   ]
  },
  {
   "cell_type": "code",
   "execution_count": 8,
   "id": "c6926178-064a-4cb7-b1b7-2253dfb6c3d6",
   "metadata": {},
   "outputs": [],
   "source": [
    "from functools import reduce"
   ]
  },
  {
   "cell_type": "code",
   "execution_count": 9,
   "id": "23b6d498-4d4e-444d-9fa6-b3e73872748f",
   "metadata": {},
   "outputs": [],
   "source": [
    "def encrypt_password(password):\n",
    "    ascii_values = [ord(char) for char in password]\n",
    "    encrypt_values = [(chr((value//26)+80), chr(value%26+80), '+' if value//26 > value%26 else '-') for value in ascii_values]\n",
    "    encrypted_password = reduce(lambda acc, val: acc + val[0] + val[1] + val[2], encrypt_values, '')\n",
    "    return encrypted_password"
   ]
  },
  {
   "cell_type": "code",
   "execution_count": 10,
   "id": "d66eb913-11a8-426b-924d-98ce4a4f6efb",
   "metadata": {},
   "outputs": [
    {
     "name": "stdin",
     "output_type": "stream",
     "text": [
      "Masukkan password:  bismillahirrahmanirrahim\n"
     ]
    }
   ],
   "source": [
    "password = input(\"Masukkan password: \")"
   ]
  },
  {
   "cell_type": "code",
   "execution_count": null,
   "id": "90ea52f6-07bd-4a11-a818-ded6e091aa16",
   "metadata": {},
   "outputs": [],
   "source": [
    "encrypted_password = encrypt_password(password)"
   ]
  },
  {
   "cell_type": "code",
   "execution_count": null,
   "id": "da3ee1ce-c8fe-4239-9573-4cf0c00bd1a4",
   "metadata": {},
   "outputs": [],
   "source": [
    "print(\"Password asli:\", password)"
   ]
  },
  {
   "cell_type": "code",
   "execution_count": null,
   "id": "eed96394-4526-4957-adc7-aab1de2664d5",
   "metadata": {},
   "outputs": [],
   "source": [
    "print(\"Password terenkripsi:\", encrypted_password)"
   ]
  }
 ],
 "metadata": {
  "kernelspec": {
   "display_name": "Python 3 (ipykernel)",
   "language": "python",
   "name": "python3"
  },
  "language_info": {
   "codemirror_mode": {
    "name": "ipython",
    "version": 3
   },
   "file_extension": ".py",
   "mimetype": "text/x-python",
   "name": "python",
   "nbconvert_exporter": "python",
   "pygments_lexer": "ipython3",
   "version": "3.10.7"
  }
 },
 "nbformat": 4,
 "nbformat_minor": 5
}
